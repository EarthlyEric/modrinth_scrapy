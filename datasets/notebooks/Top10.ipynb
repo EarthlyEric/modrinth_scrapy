{
 "cells": [
  {
   "cell_type": "code",
   "execution_count": null,
   "id": "29b75741",
   "metadata": {},
   "outputs": [
    {
     "ename": "",
     "evalue": "",
     "output_type": "error",
     "traceback": [
      "\u001b[1;31m執行具有 '.venv (Python 3.12.5)' 的儲存格需要 ipykernel 套件。\n",
      "\u001b[1;31m將 'ipykernel' 安裝到 Python 環境中。\n",
      "\u001b[1;31m命令: 'c:/Users/EarthlyEric6/Codes/Pojects/modrinth_scrapy/.venv/Scripts/python.exe -m pip install ipykernel -U --force-reinstall'"
     ]
    }
   ],
   "source": [
    "import matplotlib.pyplot as plt\n",
    "import pandas as pd\n",
    "\n",
    "data = pd.read_csv('modinth_mods_data.csv', sep=',', header=0, index_col=0, parse_dates=True)\n",
    "\n",
    "top_10 = data[(data['lib'] == 0) & (data['optimz'] == 0)].head(10)\n",
    "print(top_10)"
   ]
  }
 ],
 "metadata": {
  "kernelspec": {
   "display_name": ".venv",
   "language": "python",
   "name": "python3"
  },
  "language_info": {
   "name": "python",
   "version": "3.12.5"
  }
 },
 "nbformat": 4,
 "nbformat_minor": 5
}
